{
 "cells": [
  {
   "cell_type": "code",
   "execution_count": 1,
   "metadata": {},
   "outputs": [
    {
     "name": "stdout",
     "output_type": "stream",
     "text": [
      "8 27\n",
      "[0, 1, 2, 3, 4, 5, 7, 8, 9]\n"
     ]
    }
   ],
   "source": [
    "def sort(array):\n",
    "    comparadores, associacoes = 0 , 0\n",
    "    for i in range(0, len(array)):\n",
    "          \n",
    "       posicao_atual = array[i]\n",
    "       if  i > 0:\n",
    "           comparadores += 1\n",
    "       \n",
    "       while i > 0 and array[i - 1] > posicao_atual:\n",
    "           array[i] = array[i -1]\n",
    "           i -= 1\n",
    "           associacoes += 1\n",
    "    \n",
    "           array[i] = posicao_atual   \n",
    "    print(comparadores, associacoes)\n",
    " \n",
    "\n",
    "\n",
    "\n",
    "array = [9,7,8,1,3,5,2,0,4] \n",
    "copy_array = array[:]\n",
    "sort(array)\n",
    "print(array)\n",
    "\n"
   ]
  }
 ],
 "metadata": {
  "kernelspec": {
   "display_name": "Python 3",
   "language": "python",
   "name": "python3"
  },
  "language_info": {
   "codemirror_mode": {
    "name": "ipython",
    "version": 3
   },
   "file_extension": ".py",
   "mimetype": "text/x-python",
   "name": "python",
   "nbconvert_exporter": "python",
   "pygments_lexer": "ipython3",
   "version": "3.11.4"
  },
  "orig_nbformat": 4
 },
 "nbformat": 4,
 "nbformat_minor": 2
}
