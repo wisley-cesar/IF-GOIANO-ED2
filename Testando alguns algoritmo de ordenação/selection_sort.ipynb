{
 "cells": [
  {
   "cell_type": "code",
   "execution_count": 6,
   "metadata": {},
   "outputs": [
    {
     "name": "stdout",
     "output_type": "stream",
     "text": [
      "[1, 2, 3, 4, 5, 7, 8, 9, 19, 24, 31, 55, 212, 421]\n"
     ]
    }
   ],
   "source": [
    "def sort(array):\n",
    "    \n",
    "    for i in range(0, len(array)):\n",
    "        min_i = i \n",
    "\n",
    "        for right in range (i + 1 , len(array)):\n",
    "            if array[right] < array[min_i]:\n",
    "                min_i = right\n",
    "\n",
    "        array[i], array[min_i] = array[min_i], array[i]\n",
    "\n",
    "\n",
    "\n",
    "\n",
    "\n",
    "\n",
    "array = [9,7,8,3,4,2,1,5,19,55,212,24,31,421,] \n",
    "sort(array)\n",
    "print(array)\n"
   ]
  }
 ],
 "metadata": {
  "kernelspec": {
   "display_name": "Python 3",
   "language": "python",
   "name": "python3"
  },
  "language_info": {
   "codemirror_mode": {
    "name": "ipython",
    "version": 3
   },
   "file_extension": ".py",
   "mimetype": "text/x-python",
   "name": "python",
   "nbconvert_exporter": "python",
   "pygments_lexer": "ipython3",
   "version": "3.11.4"
  },
  "orig_nbformat": 4
 },
 "nbformat": 4,
 "nbformat_minor": 2
}
